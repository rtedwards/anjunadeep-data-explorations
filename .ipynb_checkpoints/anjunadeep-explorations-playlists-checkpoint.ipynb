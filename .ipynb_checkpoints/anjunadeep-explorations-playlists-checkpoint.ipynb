{
 "cells": [
  {
   "cell_type": "markdown",
   "metadata": {},
   "source": [
    "# Data Collection Using Spotify Web API\n",
    "\n",
    "## Spotify Web API\n",
    "Spotify has a number of [API endpoints](https://developer.spotify.com/documentation/web-api/reference-beta/) available to access the Spoitfy data.  In this notebook, I use the following endpoints:\n",
    "\n",
    "+ [search enpoint](https://developer.spotify.com/documentation/web-api/reference/search/search/) to get the track IDs\n",
    "+ [audio features endpoint](https://developer.spotify.com/documentation/web-api/reference/tracks/get-several-audio-features/) to get the corresponding audio features.\n",
    "\n",
    "## Purpose of Notebook\n",
    "The purpose of this notebook is to show how to collect and store audio features data for tracks from the [official Spotify Web API](https://developer.spotify.com/documentation/web-api/) for futher exploratory data analysis and machine learning.  "
   ]
  },
  {
   "cell_type": "markdown",
   "metadata": {},
   "source": [
    "# 1. Setup\n",
    "The following code uses `spotipy` from the [Spotify](https://spotipy.readthedocs.io/en/latest/) library.  Spotipy is a python library for accessing the Spotify web API.   "
   ]
  },
  {
   "cell_type": "code",
   "execution_count": 50,
   "metadata": {},
   "outputs": [],
   "source": [
    "import spotipy\n",
    "from spotipy.oauth2 import SpotifyClientCredentials\n",
    "import pandas as pd\n",
    "import timeit"
   ]
  },
  {
   "cell_type": "code",
   "execution_count": 83,
   "metadata": {},
   "outputs": [],
   "source": [
    "cid =\"c27d762046d144e48d9d7d929e9c2206\" \n",
    "secret = \"fd9583d5356249e1a32e262640b989dc\"\n",
    "\n",
    "client_credentials_manager = SpotifyClientCredentials(client_id=cid, client_secret=secret)\n",
    "sp = spotipy.Spotify(client_credentials_manager=client_credentials_manager)\n"
   ]
  },
  {
   "cell_type": "markdown",
   "metadata": {},
   "source": [
    "# Data Collection\n",
    "\n",
    "Data collection is done in 3 parts: first we need the artist lineup, second the track IDs, and third the audio features for each track ID. "
   ]
  },
  {
   "cell_type": "code",
   "execution_count": 88,
   "metadata": {},
   "outputs": [],
   "source": [
    "df_lineup = pd.read_csv(\"data/anjunadeep-explorations-artists.txt\", sep=\",\", header=0)\n",
    "#df_lineup = pd.DataFrame({'artist_name':lineup})"
   ]
  },
  {
   "cell_type": "code",
   "execution_count": 89,
   "metadata": {},
   "outputs": [
    {
     "name": "stdout",
     "output_type": "stream",
     "text": [
      "(56, 3)\n"
     ]
    }
   ],
   "source": [
    "print(df_lineup.shape)\n"
   ]
  },
  {
   "cell_type": "code",
   "execution_count": 90,
   "metadata": {},
   "outputs": [
    {
     "data": {
      "text/html": [
       "<div>\n",
       "<style scoped>\n",
       "    .dataframe tbody tr th:only-of-type {\n",
       "        vertical-align: middle;\n",
       "    }\n",
       "\n",
       "    .dataframe tbody tr th {\n",
       "        vertical-align: top;\n",
       "    }\n",
       "\n",
       "    .dataframe thead th {\n",
       "        text-align: right;\n",
       "    }\n",
       "</style>\n",
       "<table border=\"1\" class=\"dataframe\">\n",
       "  <thead>\n",
       "    <tr style=\"text-align: right;\">\n",
       "      <th></th>\n",
       "      <th>artist_name</th>\n",
       "      <th>artist_id</th>\n",
       "      <th>artist_uri</th>\n",
       "    </tr>\n",
       "  </thead>\n",
       "  <tbody>\n",
       "    <tr>\n",
       "      <th>0</th>\n",
       "      <td>16BL</td>\n",
       "      <td>0u2qG4roqULELVVO9fMgSG</td>\n",
       "      <td>spotify:artist:0u2qG4roqULELVVO9fMgSG</td>\n",
       "    </tr>\n",
       "    <tr>\n",
       "      <th>1</th>\n",
       "      <td>Amber Stomp</td>\n",
       "      <td>NaN</td>\n",
       "      <td>NaN</td>\n",
       "    </tr>\n",
       "    <tr>\n",
       "      <th>2</th>\n",
       "      <td>Antic</td>\n",
       "      <td>7auS7PkaRQHTzo2ExUJIff</td>\n",
       "      <td>spotify:artist:7auS7PkaRQHTzo2ExUJIff</td>\n",
       "    </tr>\n",
       "    <tr>\n",
       "      <th>3</th>\n",
       "      <td>Baltra</td>\n",
       "      <td>2tEyBfwGBfQgLXeAJW0MgC</td>\n",
       "      <td>spotify:artist:2tEyBfwGBfQgLXeAJW0MgC</td>\n",
       "    </tr>\n",
       "    <tr>\n",
       "      <th>4</th>\n",
       "      <td>Ben Böhmer</td>\n",
       "      <td>5tDjiBYUsTqzd0RkTZxK7u</td>\n",
       "      <td>spotify:artist:5tDjiBYUsTqzd0RkTZxK7u</td>\n",
       "    </tr>\n",
       "  </tbody>\n",
       "</table>\n",
       "</div>"
      ],
      "text/plain": [
       "   artist_name               artist_id                             artist_uri\n",
       "0         16BL  0u2qG4roqULELVVO9fMgSG  spotify:artist:0u2qG4roqULELVVO9fMgSG\n",
       "1  Amber Stomp                     NaN                                    NaN\n",
       "2        Antic  7auS7PkaRQHTzo2ExUJIff  spotify:artist:7auS7PkaRQHTzo2ExUJIff\n",
       "3       Baltra  2tEyBfwGBfQgLXeAJW0MgC  spotify:artist:2tEyBfwGBfQgLXeAJW0MgC\n",
       "4   Ben Böhmer  5tDjiBYUsTqzd0RkTZxK7u  spotify:artist:5tDjiBYUsTqzd0RkTZxK7u"
      ]
     },
     "execution_count": 90,
     "metadata": {},
     "output_type": "execute_result"
    }
   ],
   "source": [
    "df_lineup.head()"
   ]
  },
  {
   "cell_type": "code",
   "execution_count": 92,
   "metadata": {},
   "outputs": [
    {
     "name": "stdout",
     "output_type": "stream",
     "text": [
      "spotify:artist:7auS7PkaRQHTzo2ExUJIff\n"
     ]
    }
   ],
   "source": [
    "print(df_lineup['artist_uri'][2])\n",
    "#print(df_lineup.at[0,'artist_id'])"
   ]
  },
  {
   "cell_type": "code",
   "execution_count": 99,
   "metadata": {},
   "outputs": [
    {
     "name": "stdout",
     "output_type": "stream",
     "text": [
      "16BL\n",
      "Albums:\n",
      "Warung Brazil 2012 (Unmixed Edits) - spotify:album:6XADszDV1om9Ba5CPXQdD7\n",
      "Warung Brazil 2012 (Presented by 16 Bit Lolitas) - spotify:album:76fWXHQ79NL0mTlzmgCd39\n",
      "Warung Brazil 2012 - presented by 16 Bit Lolitas (Mixed Version) - spotify:album:1bIN4Ty4bZ506cjh9gTeKR\n",
      "Supermarkt - spotify:album:7jRPozZUucjr0J5G1c9Bxx\n",
      "Supermarkt (Mixed Version) - spotify:album:0QCiNmGREfkCxo4VYIR2Ny\n",
      "\n",
      "Singles:\n",
      "You Are High / Far and Wide - spotify:album:5YKoRwJxTa2JVHMAXlnahA\n",
      "Vette / Leaving Home - spotify:album:4rDSAYMAsLVz7sJqxBCF1b\n",
      "Lie Alone (16BL Remix) - spotify:album:0UQ17CZ8TnAxeUN8EnbE2S\n",
      "Peninsula EP - spotify:album:409MstQ9mj43L7Kax48IfN\n",
      "Stardust EP - spotify:album:532SRjzNyWbdpW8lmmfIpW\n",
      "Not The Only One EP - spotify:album:3CSMwazZ5rBbAyOlIRit4o\n",
      "Gravity - spotify:album:75pOASR4DUaD76TLqXDMF4\n",
      "Deep In My Soul EP - spotify:album:5i7B8WeK7fyaIs09D9JGwT\n",
      "Beat Organ EP - spotify:album:0lpgIFBoTBxs1drbXM6p1x\n",
      "Chant A Tune / Deep Space Girls (Remixed) - spotify:album:3dQWNFlEd2oHf7bNgXqT6x\n",
      "Chant A Tune / Deep Space Girls (Remixed) - spotify:album:202okNea2OiT04rB7JdmJ5\n",
      "Warung Brazil 2012 E.P. Volume 3 - spotify:album:2s9EsvUdRMTLdTor9TCkPC\n",
      "Warung Brazil 2012 E.P. Volume 2 - spotify:album:2nFIZBmt0ALWHLlcBkTLmW\n",
      "Warung Brazil 2012 E.P. Volume 1 - spotify:album:68tA8i25Urc6yBLVZslvw5\n",
      "Na Na Nahana / Fat Fly (Remixes) - spotify:album:5sLhReBvpWrm6AxayBCBTN\n",
      "Out Warm / It Must Have Been The Aliens - spotify:album:6A8mjQW8JRK6e6MDYnsvP1\n",
      "Faster Than The Speed Of Light / Stoneagebeats - spotify:album:32n1ojj0W3IDYOwEXlzvMn\n",
      "The Rise/You Are An Astronaut - spotify:album:1D1woS4PkWlx20aw2Fv9A2\n",
      "Personal Space (Guy J Remix) - spotify:album:2G77zV2q29lTGnYO1ow4uC\n",
      "Calling New York / 6 O'Clock (DAVI Remixes) - spotify:album:3fUf6fJi4GCraeotyDo4uU\n",
      "Sun:Sets 2019 (Selected by Chicane) - spotify:album:7xvmTBtjaZ9q4AFExAD1HK\n",
      "Anjunadeep In Miami 2019 - spotify:album:6rd8Vlkm9tU4a3tTXG2QnZ\n",
      "Group Therapy 322 - spotify:album:320sauOmLXvU91aOqGTPOP\n",
      "Group Therapy 320 - spotify:album:67bERiHmaGruXKO0kWq8p0\n",
      "Anjunadeep 10 - spotify:album:2L83fSHt5ATeDdlL4o96su\n",
      "Andre Sobota Remix Collection - spotify:album:5cBOYtXaFGMFcFA4Do61jy\n",
      "Urban Soul meets the Alps / Mama Thresl, Vol. 2 (Compiled by Paul Lomax) - spotify:album:7MrMDTrkSgHr4JdWHSIIls\n",
      "Urban Soul Meets the Alps / Mama Thresl, Vol. 2 (Compiled by Paul Lomax) - spotify:album:0VWXhdo5MeC0mes4yigtrh\n",
      "Summer Sessions 2018 - spotify:album:0EN3NyPiGGiSOFlfL64QUb\n",
      "Journey To ABGT300 - spotify:album:1xzFKPiAkIaEUP9UshYdyz\n",
      "Group Therapy 298 - spotify:album:4CMunrr7YCKXhtfBQBHAyZ\n",
      "Le café abstrait by Raphaël Marionneau, Vol. 12 (Deluxe Edition) - spotify:album:7F1BsRAJUw9ConpqajCCZ2\n",
      "In Too Deep - Miami 2018 - spotify:album:3eiu0PXtIJaK2QilsdvVgs\n",
      "In Too Deep - Miami 2018 - spotify:album:7jkBVomOdWMR8FiGdbmmRj\n",
      "Toolroom Miami 2018 - spotify:album:3TfQaYD5CAviKknweQ3YYA\n",
      "The Journey Has Just Begun - spotify:album:1pFrZxzdDGPXjY1LrEUo8r\n",
      "Group Therapy 263 - spotify:album:13B3WIlIqEhhEl7ZMMwxLJ\n",
      "Anjunadeep The Yearbook 2017 - spotify:album:3ghIWdplvkUSBR3FK90kn3\n",
      "Group Therapy 256 - spotify:album:1xvwDdS0Ab9Mm3gkjCrk2m\n",
      "Anjunadeep 09 - spotify:album:5MPERlPtdL1hOQfFLwpdXt\n",
      "\n",
      "Appears On:\n",
      "\n",
      "Compilations:\n"
     ]
    }
   ],
   "source": [
    "#Pull all of the artist's albums\n",
    "sp_albums = sp.artist_albums(df_lineup['artist_uri'][0], album_type='album')\n",
    "sp_singles = sp.artist_albums(df_lineup['artist_uri'][0], album_type='single')\n",
    "sp_appears_on = sp.artist_albums(df_lineup['artist_uri'][0], album_type='appears_on')\n",
    "sp_compilations = sp.artist_albums(df_lineup['artist_uri'][0], album_type='compilation')\n",
    "\n",
    "\n",
    "#Store artist's albums' names' and uris in separate lists\n",
    "album_names = []\n",
    "album_uris = []\n",
    "for i in range(len(sp_albums['items'])):\n",
    "    album_names.append(sp_albums['items'][i]['name'])\n",
    "    album_uris.append(sp_albums['items'][i]['uri'])\n",
    "    \n",
    "single_names = []\n",
    "single_uris = []\n",
    "for i in range(len(sp_singles['items'])):\n",
    "    single_names.append(sp_singles['items'][i]['name'])\n",
    "    single_uris.append(sp_singles['items'][i]['uri'])\n",
    "\n",
    "appears_on_names = []\n",
    "appears_on_uris = []\n",
    "for i in range(len(sp_appears_on['items'])):\n",
    "    single_names.append(sp_appears_on['items'][i]['name'])\n",
    "    single_uris.append(sp_appears_on['items'][i]['uri'])\n",
    "    \n",
    "compilation_names = []\n",
    "compilation_uris = []\n",
    "for i in range(len(sp_compilations['items'])):\n",
    "    single_names.append(sp_compilations['items'][i]['name'])\n",
    "    single_uris.append(sp_compilations['items'][i]['uri'])\n",
    "    \n",
    "print(df_lineup['artist_name'][0])\n",
    "\n",
    "print('Albums:')\n",
    "for i in range(len(album_names)):\n",
    "    print(album_names[i], '-', album_uris[i])\n",
    "\n",
    "print('\\nSingles:')\n",
    "for i in range(len(single_names)):\n",
    "    print(single_names[i], '-', single_uris[i])\n",
    "    \n",
    "print('\\nAppears On:')\n",
    "for i in range(len(appears_on_names)):\n",
    "    print(appears_on_names[i], '-', appears_on_uris[i])\n",
    "    \n",
    "print('\\nCompilations:')\n",
    "for i in range(len(compilation_names)):\n",
    "    print(compilation_names[i], '-', compilation_uris[i])\n",
    "#Keep names and uris in same order to keep track of duplicate albums"
   ]
  },
  {
   "cell_type": "code",
   "execution_count": 94,
   "metadata": {},
   "outputs": [],
   "source": [
    "def albumTracks(uri):\n",
    "    album = uri #assign album uri to a_name\n",
    "    spotify_albums[album] = {} #Creates dictionary for that specific album\n",
    "    #Create keys-values of empty lists inside nested dictionary for album\n",
    "    spotify_albums[album]['album'] = [] #create empty list\n",
    "    spotify_albums[album]['track_number'] = []\n",
    "    spotify_albums[album]['id'] = []\n",
    "    spotify_albums[album]['name'] = []\n",
    "    spotify_albums[album]['uri'] = []\n",
    "\n",
    "    tracks = sp.album_tracks(album) #pull data on album tracks\n",
    "    for n in range(len(tracks['items'])): #for each song track\n",
    "        spotify_albums[album]['album'].append(album_names[album_count]) #append album name tracked via album_count\n",
    "        spotify_albums[album]['track_number'].append(tracks['items'][n]['track_number'])\n",
    "        spotify_albums[album]['id'].append(tracks['items'][n]['id'])\n",
    "        spotify_albums[album]['name'].append(tracks['items'][n]['name'])\n",
    "        spotify_albums[album]['uri'].append(tracks['items'][n]['uri'])"
   ]
  },
  {
   "cell_type": "code",
   "execution_count": 95,
   "metadata": {},
   "outputs": [
    {
     "name": "stdout",
     "output_type": "stream",
     "text": [
      "Album Warung Brazil 2012 (Unmixed Edits) songs has been added to spotify_albums dictionary\n",
      "Album Warung Brazil 2012 (Presented by 16 Bit Lolitas) songs has been added to spotify_albums dictionary\n",
      "Album Warung Brazil 2012 - presented by 16 Bit Lolitas (Mixed Version) songs has been added to spotify_albums dictionary\n",
      "Album Supermarkt songs has been added to spotify_albums dictionary\n",
      "Album Supermarkt (Mixed Version) songs has been added to spotify_albums dictionary\n"
     ]
    }
   ],
   "source": [
    "spotify_albums = {}\n",
    "album_count = 0\n",
    "for i in album_uris: #each album\n",
    "    albumTracks(i)\n",
    "    print(\"Album \" + str(album_names[album_count]) + \" songs has been added to spotify_albums dictionary\")\n",
    "    album_count+=1 #Updates album count once all tracks have been added"
   ]
  },
  {
   "cell_type": "code",
   "execution_count": 39,
   "metadata": {},
   "outputs": [
    {
     "name": "stdout",
     "output_type": "stream",
     "text": [
      "(0/56) Finished downloading songs for:  16BL\n"
     ]
    },
    {
     "ename": "KeyboardInterrupt",
     "evalue": "",
     "output_type": "error",
     "traceback": [
      "\u001b[0;31m---------------------------------------------------------------------------\u001b[0m",
      "\u001b[0;31mTypeError\u001b[0m                                 Traceback (most recent call last)",
      "\u001b[0;32m~/anaconda3/envs/python36/lib/python3.6/site-packages/urllib3/connectionpool.py\u001b[0m in \u001b[0;36m_make_request\u001b[0;34m(self, conn, method, url, timeout, chunked, **httplib_request_kw)\u001b[0m\n\u001b[1;32m    378\u001b[0m                 \u001b[0;31m# Python 2.7, use buffering of HTTP responses\u001b[0m\u001b[0;34m\u001b[0m\u001b[0;34m\u001b[0m\u001b[0;34m\u001b[0m\u001b[0m\n\u001b[0;32m--> 379\u001b[0;31m                 \u001b[0mhttplib_response\u001b[0m \u001b[0;34m=\u001b[0m \u001b[0mconn\u001b[0m\u001b[0;34m.\u001b[0m\u001b[0mgetresponse\u001b[0m\u001b[0;34m(\u001b[0m\u001b[0mbuffering\u001b[0m\u001b[0;34m=\u001b[0m\u001b[0;32mTrue\u001b[0m\u001b[0;34m)\u001b[0m\u001b[0;34m\u001b[0m\u001b[0;34m\u001b[0m\u001b[0m\n\u001b[0m\u001b[1;32m    380\u001b[0m             \u001b[0;32mexcept\u001b[0m \u001b[0mTypeError\u001b[0m\u001b[0;34m:\u001b[0m\u001b[0;34m\u001b[0m\u001b[0;34m\u001b[0m\u001b[0m\n",
      "\u001b[0;31mTypeError\u001b[0m: getresponse() got an unexpected keyword argument 'buffering'",
      "\nDuring handling of the above exception, another exception occurred:\n",
      "\u001b[0;31mKeyboardInterrupt\u001b[0m                         Traceback (most recent call last)",
      "\u001b[0;32m<ipython-input-39-c5b444fd15de>\u001b[0m in \u001b[0;36m<module>\u001b[0;34m\u001b[0m\n\u001b[1;32m     10\u001b[0m     \u001b[0mlineup\u001b[0m \u001b[0;34m=\u001b[0m \u001b[0;34m'artist:'\u001b[0m \u001b[0;34m+\u001b[0m \u001b[0mdf_lineup\u001b[0m\u001b[0;34m[\u001b[0m\u001b[0;34m'artist_name'\u001b[0m\u001b[0;34m]\u001b[0m\u001b[0;34m[\u001b[0m\u001b[0mk\u001b[0m\u001b[0;34m]\u001b[0m\u001b[0;34m\u001b[0m\u001b[0;34m\u001b[0m\u001b[0m\n\u001b[1;32m     11\u001b[0m     \u001b[0;32mfor\u001b[0m \u001b[0mi\u001b[0m \u001b[0;32min\u001b[0m \u001b[0mrange\u001b[0m\u001b[0;34m(\u001b[0m\u001b[0;36m0\u001b[0m\u001b[0;34m,\u001b[0m\u001b[0;36m1000\u001b[0m\u001b[0;34m,\u001b[0m\u001b[0;36m50\u001b[0m\u001b[0;34m)\u001b[0m\u001b[0;34m:\u001b[0m\u001b[0;34m\u001b[0m\u001b[0;34m\u001b[0m\u001b[0m\n\u001b[0;32m---> 12\u001b[0;31m         \u001b[0mtrack_results\u001b[0m \u001b[0;34m=\u001b[0m \u001b[0msp\u001b[0m\u001b[0;34m.\u001b[0m\u001b[0msearch\u001b[0m\u001b[0;34m(\u001b[0m\u001b[0mq\u001b[0m\u001b[0;34m=\u001b[0m\u001b[0mlineup\u001b[0m\u001b[0;34m,\u001b[0m \u001b[0mtype\u001b[0m\u001b[0;34m=\u001b[0m\u001b[0;34m'track'\u001b[0m\u001b[0;34m,\u001b[0m \u001b[0mlimit\u001b[0m\u001b[0;34m=\u001b[0m\u001b[0;36m50\u001b[0m\u001b[0;34m,\u001b[0m\u001b[0moffset\u001b[0m\u001b[0;34m=\u001b[0m\u001b[0mi\u001b[0m\u001b[0;34m)\u001b[0m\u001b[0;34m\u001b[0m\u001b[0;34m\u001b[0m\u001b[0m\n\u001b[0m\u001b[1;32m     13\u001b[0m         \u001b[0;32mfor\u001b[0m \u001b[0mi\u001b[0m\u001b[0;34m,\u001b[0m \u001b[0mt\u001b[0m \u001b[0;32min\u001b[0m \u001b[0menumerate\u001b[0m\u001b[0;34m(\u001b[0m\u001b[0mtrack_results\u001b[0m\u001b[0;34m[\u001b[0m\u001b[0;34m'tracks'\u001b[0m\u001b[0;34m]\u001b[0m\u001b[0;34m[\u001b[0m\u001b[0;34m'items'\u001b[0m\u001b[0;34m]\u001b[0m\u001b[0;34m)\u001b[0m\u001b[0;34m:\u001b[0m\u001b[0;34m\u001b[0m\u001b[0;34m\u001b[0m\u001b[0m\n\u001b[1;32m     14\u001b[0m             \u001b[0martist_name\u001b[0m\u001b[0;34m.\u001b[0m\u001b[0mappend\u001b[0m\u001b[0;34m(\u001b[0m\u001b[0mt\u001b[0m\u001b[0;34m[\u001b[0m\u001b[0;34m'artists'\u001b[0m\u001b[0;34m]\u001b[0m\u001b[0;34m[\u001b[0m\u001b[0;36m0\u001b[0m\u001b[0;34m]\u001b[0m\u001b[0;34m[\u001b[0m\u001b[0;34m'name'\u001b[0m\u001b[0;34m]\u001b[0m\u001b[0;34m)\u001b[0m\u001b[0;34m\u001b[0m\u001b[0;34m\u001b[0m\u001b[0m\n",
      "\u001b[0;32m~/anaconda3/envs/python36/lib/python3.6/site-packages/spotipy/client.py\u001b[0m in \u001b[0;36msearch\u001b[0;34m(self, q, limit, offset, type, market)\u001b[0m\n\u001b[1;32m    337\u001b[0m                 \u001b[0;34m-\u001b[0m \u001b[0mmarket\u001b[0m \u001b[0;34m-\u001b[0m \u001b[0mAn\u001b[0m \u001b[0mISO\u001b[0m \u001b[0;36m3166\u001b[0m\u001b[0;34m-\u001b[0m\u001b[0;36m1\u001b[0m \u001b[0malpha\u001b[0m\u001b[0;34m-\u001b[0m\u001b[0;36m2\u001b[0m \u001b[0mcountry\u001b[0m \u001b[0mcode\u001b[0m \u001b[0;32mor\u001b[0m \u001b[0mthe\u001b[0m \u001b[0mstring\u001b[0m \u001b[0mfrom_token\u001b[0m\u001b[0;34m.\u001b[0m\u001b[0;34m\u001b[0m\u001b[0;34m\u001b[0m\u001b[0m\n\u001b[1;32m    338\u001b[0m         '''\n\u001b[0;32m--> 339\u001b[0;31m         \u001b[0;32mreturn\u001b[0m \u001b[0mself\u001b[0m\u001b[0;34m.\u001b[0m\u001b[0m_get\u001b[0m\u001b[0;34m(\u001b[0m\u001b[0;34m'search'\u001b[0m\u001b[0;34m,\u001b[0m \u001b[0mq\u001b[0m\u001b[0;34m=\u001b[0m\u001b[0mq\u001b[0m\u001b[0;34m,\u001b[0m \u001b[0mlimit\u001b[0m\u001b[0;34m=\u001b[0m\u001b[0mlimit\u001b[0m\u001b[0;34m,\u001b[0m \u001b[0moffset\u001b[0m\u001b[0;34m=\u001b[0m\u001b[0moffset\u001b[0m\u001b[0;34m,\u001b[0m \u001b[0mtype\u001b[0m\u001b[0;34m=\u001b[0m\u001b[0mtype\u001b[0m\u001b[0;34m,\u001b[0m \u001b[0mmarket\u001b[0m\u001b[0;34m=\u001b[0m\u001b[0mmarket\u001b[0m\u001b[0;34m)\u001b[0m\u001b[0;34m\u001b[0m\u001b[0;34m\u001b[0m\u001b[0m\n\u001b[0m\u001b[1;32m    340\u001b[0m \u001b[0;34m\u001b[0m\u001b[0m\n\u001b[1;32m    341\u001b[0m     \u001b[0;32mdef\u001b[0m \u001b[0muser\u001b[0m\u001b[0;34m(\u001b[0m\u001b[0mself\u001b[0m\u001b[0;34m,\u001b[0m \u001b[0muser\u001b[0m\u001b[0;34m)\u001b[0m\u001b[0;34m:\u001b[0m\u001b[0;34m\u001b[0m\u001b[0;34m\u001b[0m\u001b[0m\n",
      "\u001b[0;32m~/anaconda3/envs/python36/lib/python3.6/site-packages/spotipy/client.py\u001b[0m in \u001b[0;36m_get\u001b[0;34m(self, url, args, payload, **kwargs)\u001b[0m\n\u001b[1;32m    144\u001b[0m         \u001b[0;32mwhile\u001b[0m \u001b[0mretries\u001b[0m \u001b[0;34m>\u001b[0m \u001b[0;36m0\u001b[0m\u001b[0;34m:\u001b[0m\u001b[0;34m\u001b[0m\u001b[0;34m\u001b[0m\u001b[0m\n\u001b[1;32m    145\u001b[0m             \u001b[0;32mtry\u001b[0m\u001b[0;34m:\u001b[0m\u001b[0;34m\u001b[0m\u001b[0;34m\u001b[0m\u001b[0m\n\u001b[0;32m--> 146\u001b[0;31m                 \u001b[0;32mreturn\u001b[0m \u001b[0mself\u001b[0m\u001b[0;34m.\u001b[0m\u001b[0m_internal_call\u001b[0m\u001b[0;34m(\u001b[0m\u001b[0;34m'GET'\u001b[0m\u001b[0;34m,\u001b[0m \u001b[0murl\u001b[0m\u001b[0;34m,\u001b[0m \u001b[0mpayload\u001b[0m\u001b[0;34m,\u001b[0m \u001b[0mkwargs\u001b[0m\u001b[0;34m)\u001b[0m\u001b[0;34m\u001b[0m\u001b[0;34m\u001b[0m\u001b[0m\n\u001b[0m\u001b[1;32m    147\u001b[0m             \u001b[0;32mexcept\u001b[0m \u001b[0mSpotifyException\u001b[0m \u001b[0;32mas\u001b[0m \u001b[0me\u001b[0m\u001b[0;34m:\u001b[0m\u001b[0;34m\u001b[0m\u001b[0;34m\u001b[0m\u001b[0m\n\u001b[1;32m    148\u001b[0m                 \u001b[0mretries\u001b[0m \u001b[0;34m-=\u001b[0m \u001b[0;36m1\u001b[0m\u001b[0;34m\u001b[0m\u001b[0;34m\u001b[0m\u001b[0m\n",
      "\u001b[0;32m~/anaconda3/envs/python36/lib/python3.6/site-packages/spotipy/client.py\u001b[0m in \u001b[0;36m_internal_call\u001b[0;34m(self, method, url, payload, params)\u001b[0m\n\u001b[1;32m    106\u001b[0m         \u001b[0;32mif\u001b[0m \u001b[0mself\u001b[0m\u001b[0;34m.\u001b[0m\u001b[0mtrace_out\u001b[0m\u001b[0;34m:\u001b[0m\u001b[0;34m\u001b[0m\u001b[0;34m\u001b[0m\u001b[0m\n\u001b[1;32m    107\u001b[0m             \u001b[0mprint\u001b[0m\u001b[0;34m(\u001b[0m\u001b[0murl\u001b[0m\u001b[0;34m)\u001b[0m\u001b[0;34m\u001b[0m\u001b[0;34m\u001b[0m\u001b[0m\n\u001b[0;32m--> 108\u001b[0;31m         \u001b[0mr\u001b[0m \u001b[0;34m=\u001b[0m \u001b[0mself\u001b[0m\u001b[0;34m.\u001b[0m\u001b[0m_session\u001b[0m\u001b[0;34m.\u001b[0m\u001b[0mrequest\u001b[0m\u001b[0;34m(\u001b[0m\u001b[0mmethod\u001b[0m\u001b[0;34m,\u001b[0m \u001b[0murl\u001b[0m\u001b[0;34m,\u001b[0m \u001b[0mheaders\u001b[0m\u001b[0;34m=\u001b[0m\u001b[0mheaders\u001b[0m\u001b[0;34m,\u001b[0m \u001b[0mproxies\u001b[0m\u001b[0;34m=\u001b[0m\u001b[0mself\u001b[0m\u001b[0;34m.\u001b[0m\u001b[0mproxies\u001b[0m\u001b[0;34m,\u001b[0m \u001b[0;34m**\u001b[0m\u001b[0margs\u001b[0m\u001b[0;34m)\u001b[0m\u001b[0;34m\u001b[0m\u001b[0;34m\u001b[0m\u001b[0m\n\u001b[0m\u001b[1;32m    109\u001b[0m \u001b[0;34m\u001b[0m\u001b[0m\n\u001b[1;32m    110\u001b[0m         \u001b[0;32mif\u001b[0m \u001b[0mself\u001b[0m\u001b[0;34m.\u001b[0m\u001b[0mtrace\u001b[0m\u001b[0;34m:\u001b[0m  \u001b[0;31m# pragma: no cover\u001b[0m\u001b[0;34m\u001b[0m\u001b[0;34m\u001b[0m\u001b[0m\n",
      "\u001b[0;32m~/anaconda3/envs/python36/lib/python3.6/site-packages/requests/sessions.py\u001b[0m in \u001b[0;36mrequest\u001b[0;34m(self, method, url, params, data, headers, cookies, files, auth, timeout, allow_redirects, proxies, hooks, stream, verify, cert, json)\u001b[0m\n\u001b[1;32m    531\u001b[0m         }\n\u001b[1;32m    532\u001b[0m         \u001b[0msend_kwargs\u001b[0m\u001b[0;34m.\u001b[0m\u001b[0mupdate\u001b[0m\u001b[0;34m(\u001b[0m\u001b[0msettings\u001b[0m\u001b[0;34m)\u001b[0m\u001b[0;34m\u001b[0m\u001b[0;34m\u001b[0m\u001b[0m\n\u001b[0;32m--> 533\u001b[0;31m         \u001b[0mresp\u001b[0m \u001b[0;34m=\u001b[0m \u001b[0mself\u001b[0m\u001b[0;34m.\u001b[0m\u001b[0msend\u001b[0m\u001b[0;34m(\u001b[0m\u001b[0mprep\u001b[0m\u001b[0;34m,\u001b[0m \u001b[0;34m**\u001b[0m\u001b[0msend_kwargs\u001b[0m\u001b[0;34m)\u001b[0m\u001b[0;34m\u001b[0m\u001b[0;34m\u001b[0m\u001b[0m\n\u001b[0m\u001b[1;32m    534\u001b[0m \u001b[0;34m\u001b[0m\u001b[0m\n\u001b[1;32m    535\u001b[0m         \u001b[0;32mreturn\u001b[0m \u001b[0mresp\u001b[0m\u001b[0;34m\u001b[0m\u001b[0;34m\u001b[0m\u001b[0m\n",
      "\u001b[0;32m~/anaconda3/envs/python36/lib/python3.6/site-packages/requests/sessions.py\u001b[0m in \u001b[0;36msend\u001b[0;34m(self, request, **kwargs)\u001b[0m\n\u001b[1;32m    644\u001b[0m \u001b[0;34m\u001b[0m\u001b[0m\n\u001b[1;32m    645\u001b[0m         \u001b[0;31m# Send the request\u001b[0m\u001b[0;34m\u001b[0m\u001b[0;34m\u001b[0m\u001b[0;34m\u001b[0m\u001b[0m\n\u001b[0;32m--> 646\u001b[0;31m         \u001b[0mr\u001b[0m \u001b[0;34m=\u001b[0m \u001b[0madapter\u001b[0m\u001b[0;34m.\u001b[0m\u001b[0msend\u001b[0m\u001b[0;34m(\u001b[0m\u001b[0mrequest\u001b[0m\u001b[0;34m,\u001b[0m \u001b[0;34m**\u001b[0m\u001b[0mkwargs\u001b[0m\u001b[0;34m)\u001b[0m\u001b[0;34m\u001b[0m\u001b[0;34m\u001b[0m\u001b[0m\n\u001b[0m\u001b[1;32m    647\u001b[0m \u001b[0;34m\u001b[0m\u001b[0m\n\u001b[1;32m    648\u001b[0m         \u001b[0;31m# Total elapsed time of the request (approximately)\u001b[0m\u001b[0;34m\u001b[0m\u001b[0;34m\u001b[0m\u001b[0;34m\u001b[0m\u001b[0m\n",
      "\u001b[0;32m~/anaconda3/envs/python36/lib/python3.6/site-packages/requests/adapters.py\u001b[0m in \u001b[0;36msend\u001b[0;34m(self, request, stream, timeout, verify, cert, proxies)\u001b[0m\n\u001b[1;32m    447\u001b[0m                     \u001b[0mdecode_content\u001b[0m\u001b[0;34m=\u001b[0m\u001b[0;32mFalse\u001b[0m\u001b[0;34m,\u001b[0m\u001b[0;34m\u001b[0m\u001b[0;34m\u001b[0m\u001b[0m\n\u001b[1;32m    448\u001b[0m                     \u001b[0mretries\u001b[0m\u001b[0;34m=\u001b[0m\u001b[0mself\u001b[0m\u001b[0;34m.\u001b[0m\u001b[0mmax_retries\u001b[0m\u001b[0;34m,\u001b[0m\u001b[0;34m\u001b[0m\u001b[0;34m\u001b[0m\u001b[0m\n\u001b[0;32m--> 449\u001b[0;31m                     \u001b[0mtimeout\u001b[0m\u001b[0;34m=\u001b[0m\u001b[0mtimeout\u001b[0m\u001b[0;34m\u001b[0m\u001b[0;34m\u001b[0m\u001b[0m\n\u001b[0m\u001b[1;32m    450\u001b[0m                 )\n\u001b[1;32m    451\u001b[0m \u001b[0;34m\u001b[0m\u001b[0m\n",
      "\u001b[0;32m~/anaconda3/envs/python36/lib/python3.6/site-packages/urllib3/connectionpool.py\u001b[0m in \u001b[0;36murlopen\u001b[0;34m(self, method, url, body, headers, retries, redirect, assert_same_host, timeout, pool_timeout, release_conn, chunked, body_pos, **response_kw)\u001b[0m\n\u001b[1;32m    601\u001b[0m                                                   \u001b[0mtimeout\u001b[0m\u001b[0;34m=\u001b[0m\u001b[0mtimeout_obj\u001b[0m\u001b[0;34m,\u001b[0m\u001b[0;34m\u001b[0m\u001b[0;34m\u001b[0m\u001b[0m\n\u001b[1;32m    602\u001b[0m                                                   \u001b[0mbody\u001b[0m\u001b[0;34m=\u001b[0m\u001b[0mbody\u001b[0m\u001b[0;34m,\u001b[0m \u001b[0mheaders\u001b[0m\u001b[0;34m=\u001b[0m\u001b[0mheaders\u001b[0m\u001b[0;34m,\u001b[0m\u001b[0;34m\u001b[0m\u001b[0;34m\u001b[0m\u001b[0m\n\u001b[0;32m--> 603\u001b[0;31m                                                   chunked=chunked)\n\u001b[0m\u001b[1;32m    604\u001b[0m \u001b[0;34m\u001b[0m\u001b[0m\n\u001b[1;32m    605\u001b[0m             \u001b[0;31m# If we're going to release the connection in ``finally:``, then\u001b[0m\u001b[0;34m\u001b[0m\u001b[0;34m\u001b[0m\u001b[0;34m\u001b[0m\u001b[0m\n",
      "\u001b[0;32m~/anaconda3/envs/python36/lib/python3.6/site-packages/urllib3/connectionpool.py\u001b[0m in \u001b[0;36m_make_request\u001b[0;34m(self, conn, method, url, timeout, chunked, **httplib_request_kw)\u001b[0m\n\u001b[1;32m    381\u001b[0m                 \u001b[0;31m# Python 3\u001b[0m\u001b[0;34m\u001b[0m\u001b[0;34m\u001b[0m\u001b[0;34m\u001b[0m\u001b[0m\n\u001b[1;32m    382\u001b[0m                 \u001b[0;32mtry\u001b[0m\u001b[0;34m:\u001b[0m\u001b[0;34m\u001b[0m\u001b[0;34m\u001b[0m\u001b[0m\n\u001b[0;32m--> 383\u001b[0;31m                     \u001b[0mhttplib_response\u001b[0m \u001b[0;34m=\u001b[0m \u001b[0mconn\u001b[0m\u001b[0;34m.\u001b[0m\u001b[0mgetresponse\u001b[0m\u001b[0;34m(\u001b[0m\u001b[0;34m)\u001b[0m\u001b[0;34m\u001b[0m\u001b[0;34m\u001b[0m\u001b[0m\n\u001b[0m\u001b[1;32m    384\u001b[0m                 \u001b[0;32mexcept\u001b[0m \u001b[0mException\u001b[0m \u001b[0;32mas\u001b[0m \u001b[0me\u001b[0m\u001b[0;34m:\u001b[0m\u001b[0;34m\u001b[0m\u001b[0;34m\u001b[0m\u001b[0m\n\u001b[1;32m    385\u001b[0m                     \u001b[0;31m# Remove the TypeError from the exception chain in Python 3;\u001b[0m\u001b[0;34m\u001b[0m\u001b[0;34m\u001b[0m\u001b[0;34m\u001b[0m\u001b[0m\n",
      "\u001b[0;32m~/anaconda3/envs/python36/lib/python3.6/http/client.py\u001b[0m in \u001b[0;36mgetresponse\u001b[0;34m(self)\u001b[0m\n\u001b[1;32m   1329\u001b[0m         \u001b[0;32mtry\u001b[0m\u001b[0;34m:\u001b[0m\u001b[0;34m\u001b[0m\u001b[0;34m\u001b[0m\u001b[0m\n\u001b[1;32m   1330\u001b[0m             \u001b[0;32mtry\u001b[0m\u001b[0;34m:\u001b[0m\u001b[0;34m\u001b[0m\u001b[0;34m\u001b[0m\u001b[0m\n\u001b[0;32m-> 1331\u001b[0;31m                 \u001b[0mresponse\u001b[0m\u001b[0;34m.\u001b[0m\u001b[0mbegin\u001b[0m\u001b[0;34m(\u001b[0m\u001b[0;34m)\u001b[0m\u001b[0;34m\u001b[0m\u001b[0;34m\u001b[0m\u001b[0m\n\u001b[0m\u001b[1;32m   1332\u001b[0m             \u001b[0;32mexcept\u001b[0m \u001b[0mConnectionError\u001b[0m\u001b[0;34m:\u001b[0m\u001b[0;34m\u001b[0m\u001b[0;34m\u001b[0m\u001b[0m\n\u001b[1;32m   1333\u001b[0m                 \u001b[0mself\u001b[0m\u001b[0;34m.\u001b[0m\u001b[0mclose\u001b[0m\u001b[0;34m(\u001b[0m\u001b[0;34m)\u001b[0m\u001b[0;34m\u001b[0m\u001b[0;34m\u001b[0m\u001b[0m\n",
      "\u001b[0;32m~/anaconda3/envs/python36/lib/python3.6/http/client.py\u001b[0m in \u001b[0;36mbegin\u001b[0;34m(self)\u001b[0m\n\u001b[1;32m    295\u001b[0m         \u001b[0;31m# read until we get a non-100 response\u001b[0m\u001b[0;34m\u001b[0m\u001b[0;34m\u001b[0m\u001b[0;34m\u001b[0m\u001b[0m\n\u001b[1;32m    296\u001b[0m         \u001b[0;32mwhile\u001b[0m \u001b[0;32mTrue\u001b[0m\u001b[0;34m:\u001b[0m\u001b[0;34m\u001b[0m\u001b[0;34m\u001b[0m\u001b[0m\n\u001b[0;32m--> 297\u001b[0;31m             \u001b[0mversion\u001b[0m\u001b[0;34m,\u001b[0m \u001b[0mstatus\u001b[0m\u001b[0;34m,\u001b[0m \u001b[0mreason\u001b[0m \u001b[0;34m=\u001b[0m \u001b[0mself\u001b[0m\u001b[0;34m.\u001b[0m\u001b[0m_read_status\u001b[0m\u001b[0;34m(\u001b[0m\u001b[0;34m)\u001b[0m\u001b[0;34m\u001b[0m\u001b[0;34m\u001b[0m\u001b[0m\n\u001b[0m\u001b[1;32m    298\u001b[0m             \u001b[0;32mif\u001b[0m \u001b[0mstatus\u001b[0m \u001b[0;34m!=\u001b[0m \u001b[0mCONTINUE\u001b[0m\u001b[0;34m:\u001b[0m\u001b[0;34m\u001b[0m\u001b[0;34m\u001b[0m\u001b[0m\n\u001b[1;32m    299\u001b[0m                 \u001b[0;32mbreak\u001b[0m\u001b[0;34m\u001b[0m\u001b[0;34m\u001b[0m\u001b[0m\n",
      "\u001b[0;32m~/anaconda3/envs/python36/lib/python3.6/http/client.py\u001b[0m in \u001b[0;36m_read_status\u001b[0;34m(self)\u001b[0m\n\u001b[1;32m    256\u001b[0m \u001b[0;34m\u001b[0m\u001b[0m\n\u001b[1;32m    257\u001b[0m     \u001b[0;32mdef\u001b[0m \u001b[0m_read_status\u001b[0m\u001b[0;34m(\u001b[0m\u001b[0mself\u001b[0m\u001b[0;34m)\u001b[0m\u001b[0;34m:\u001b[0m\u001b[0;34m\u001b[0m\u001b[0;34m\u001b[0m\u001b[0m\n\u001b[0;32m--> 258\u001b[0;31m         \u001b[0mline\u001b[0m \u001b[0;34m=\u001b[0m \u001b[0mstr\u001b[0m\u001b[0;34m(\u001b[0m\u001b[0mself\u001b[0m\u001b[0;34m.\u001b[0m\u001b[0mfp\u001b[0m\u001b[0;34m.\u001b[0m\u001b[0mreadline\u001b[0m\u001b[0;34m(\u001b[0m\u001b[0m_MAXLINE\u001b[0m \u001b[0;34m+\u001b[0m \u001b[0;36m1\u001b[0m\u001b[0;34m)\u001b[0m\u001b[0;34m,\u001b[0m \u001b[0;34m\"iso-8859-1\"\u001b[0m\u001b[0;34m)\u001b[0m\u001b[0;34m\u001b[0m\u001b[0;34m\u001b[0m\u001b[0m\n\u001b[0m\u001b[1;32m    259\u001b[0m         \u001b[0;32mif\u001b[0m \u001b[0mlen\u001b[0m\u001b[0;34m(\u001b[0m\u001b[0mline\u001b[0m\u001b[0;34m)\u001b[0m \u001b[0;34m>\u001b[0m \u001b[0m_MAXLINE\u001b[0m\u001b[0;34m:\u001b[0m\u001b[0;34m\u001b[0m\u001b[0;34m\u001b[0m\u001b[0m\n\u001b[1;32m    260\u001b[0m             \u001b[0;32mraise\u001b[0m \u001b[0mLineTooLong\u001b[0m\u001b[0;34m(\u001b[0m\u001b[0;34m\"status line\"\u001b[0m\u001b[0;34m)\u001b[0m\u001b[0;34m\u001b[0m\u001b[0;34m\u001b[0m\u001b[0m\n",
      "\u001b[0;32m~/anaconda3/envs/python36/lib/python3.6/socket.py\u001b[0m in \u001b[0;36mreadinto\u001b[0;34m(self, b)\u001b[0m\n\u001b[1;32m    584\u001b[0m         \u001b[0;32mwhile\u001b[0m \u001b[0;32mTrue\u001b[0m\u001b[0;34m:\u001b[0m\u001b[0;34m\u001b[0m\u001b[0;34m\u001b[0m\u001b[0m\n\u001b[1;32m    585\u001b[0m             \u001b[0;32mtry\u001b[0m\u001b[0;34m:\u001b[0m\u001b[0;34m\u001b[0m\u001b[0;34m\u001b[0m\u001b[0m\n\u001b[0;32m--> 586\u001b[0;31m                 \u001b[0;32mreturn\u001b[0m \u001b[0mself\u001b[0m\u001b[0;34m.\u001b[0m\u001b[0m_sock\u001b[0m\u001b[0;34m.\u001b[0m\u001b[0mrecv_into\u001b[0m\u001b[0;34m(\u001b[0m\u001b[0mb\u001b[0m\u001b[0;34m)\u001b[0m\u001b[0;34m\u001b[0m\u001b[0;34m\u001b[0m\u001b[0m\n\u001b[0m\u001b[1;32m    587\u001b[0m             \u001b[0;32mexcept\u001b[0m \u001b[0mtimeout\u001b[0m\u001b[0;34m:\u001b[0m\u001b[0;34m\u001b[0m\u001b[0;34m\u001b[0m\u001b[0m\n\u001b[1;32m    588\u001b[0m                 \u001b[0mself\u001b[0m\u001b[0;34m.\u001b[0m\u001b[0m_timeout_occurred\u001b[0m \u001b[0;34m=\u001b[0m \u001b[0;32mTrue\u001b[0m\u001b[0;34m\u001b[0m\u001b[0;34m\u001b[0m\u001b[0m\n",
      "\u001b[0;32m~/anaconda3/envs/python36/lib/python3.6/ssl.py\u001b[0m in \u001b[0;36mrecv_into\u001b[0;34m(self, buffer, nbytes, flags)\u001b[0m\n\u001b[1;32m   1010\u001b[0m                   \u001b[0;34m\"non-zero flags not allowed in calls to recv_into() on %s\"\u001b[0m \u001b[0;34m%\u001b[0m\u001b[0;34m\u001b[0m\u001b[0;34m\u001b[0m\u001b[0m\n\u001b[1;32m   1011\u001b[0m                   self.__class__)\n\u001b[0;32m-> 1012\u001b[0;31m             \u001b[0;32mreturn\u001b[0m \u001b[0mself\u001b[0m\u001b[0;34m.\u001b[0m\u001b[0mread\u001b[0m\u001b[0;34m(\u001b[0m\u001b[0mnbytes\u001b[0m\u001b[0;34m,\u001b[0m \u001b[0mbuffer\u001b[0m\u001b[0;34m)\u001b[0m\u001b[0;34m\u001b[0m\u001b[0;34m\u001b[0m\u001b[0m\n\u001b[0m\u001b[1;32m   1013\u001b[0m         \u001b[0;32melse\u001b[0m\u001b[0;34m:\u001b[0m\u001b[0;34m\u001b[0m\u001b[0;34m\u001b[0m\u001b[0m\n\u001b[1;32m   1014\u001b[0m             \u001b[0;32mreturn\u001b[0m \u001b[0msocket\u001b[0m\u001b[0;34m.\u001b[0m\u001b[0mrecv_into\u001b[0m\u001b[0;34m(\u001b[0m\u001b[0mself\u001b[0m\u001b[0;34m,\u001b[0m \u001b[0mbuffer\u001b[0m\u001b[0;34m,\u001b[0m \u001b[0mnbytes\u001b[0m\u001b[0;34m,\u001b[0m \u001b[0mflags\u001b[0m\u001b[0;34m)\u001b[0m\u001b[0;34m\u001b[0m\u001b[0;34m\u001b[0m\u001b[0m\n",
      "\u001b[0;32m~/anaconda3/envs/python36/lib/python3.6/ssl.py\u001b[0m in \u001b[0;36mread\u001b[0;34m(self, len, buffer)\u001b[0m\n\u001b[1;32m    872\u001b[0m             \u001b[0;32mraise\u001b[0m \u001b[0mValueError\u001b[0m\u001b[0;34m(\u001b[0m\u001b[0;34m\"Read on closed or unwrapped SSL socket.\"\u001b[0m\u001b[0;34m)\u001b[0m\u001b[0;34m\u001b[0m\u001b[0;34m\u001b[0m\u001b[0m\n\u001b[1;32m    873\u001b[0m         \u001b[0;32mtry\u001b[0m\u001b[0;34m:\u001b[0m\u001b[0;34m\u001b[0m\u001b[0;34m\u001b[0m\u001b[0m\n\u001b[0;32m--> 874\u001b[0;31m             \u001b[0;32mreturn\u001b[0m \u001b[0mself\u001b[0m\u001b[0;34m.\u001b[0m\u001b[0m_sslobj\u001b[0m\u001b[0;34m.\u001b[0m\u001b[0mread\u001b[0m\u001b[0;34m(\u001b[0m\u001b[0mlen\u001b[0m\u001b[0;34m,\u001b[0m \u001b[0mbuffer\u001b[0m\u001b[0;34m)\u001b[0m\u001b[0;34m\u001b[0m\u001b[0;34m\u001b[0m\u001b[0m\n\u001b[0m\u001b[1;32m    875\u001b[0m         \u001b[0;32mexcept\u001b[0m \u001b[0mSSLError\u001b[0m \u001b[0;32mas\u001b[0m \u001b[0mx\u001b[0m\u001b[0;34m:\u001b[0m\u001b[0;34m\u001b[0m\u001b[0;34m\u001b[0m\u001b[0m\n\u001b[1;32m    876\u001b[0m             \u001b[0;32mif\u001b[0m \u001b[0mx\u001b[0m\u001b[0;34m.\u001b[0m\u001b[0margs\u001b[0m\u001b[0;34m[\u001b[0m\u001b[0;36m0\u001b[0m\u001b[0;34m]\u001b[0m \u001b[0;34m==\u001b[0m \u001b[0mSSL_ERROR_EOF\u001b[0m \u001b[0;32mand\u001b[0m \u001b[0mself\u001b[0m\u001b[0;34m.\u001b[0m\u001b[0msuppress_ragged_eofs\u001b[0m\u001b[0;34m:\u001b[0m\u001b[0;34m\u001b[0m\u001b[0;34m\u001b[0m\u001b[0m\n",
      "\u001b[0;32m~/anaconda3/envs/python36/lib/python3.6/ssl.py\u001b[0m in \u001b[0;36mread\u001b[0;34m(self, len, buffer)\u001b[0m\n\u001b[1;32m    629\u001b[0m         \"\"\"\n\u001b[1;32m    630\u001b[0m         \u001b[0;32mif\u001b[0m \u001b[0mbuffer\u001b[0m \u001b[0;32mis\u001b[0m \u001b[0;32mnot\u001b[0m \u001b[0;32mNone\u001b[0m\u001b[0;34m:\u001b[0m\u001b[0;34m\u001b[0m\u001b[0;34m\u001b[0m\u001b[0m\n\u001b[0;32m--> 631\u001b[0;31m             \u001b[0mv\u001b[0m \u001b[0;34m=\u001b[0m \u001b[0mself\u001b[0m\u001b[0;34m.\u001b[0m\u001b[0m_sslobj\u001b[0m\u001b[0;34m.\u001b[0m\u001b[0mread\u001b[0m\u001b[0;34m(\u001b[0m\u001b[0mlen\u001b[0m\u001b[0;34m,\u001b[0m \u001b[0mbuffer\u001b[0m\u001b[0;34m)\u001b[0m\u001b[0;34m\u001b[0m\u001b[0;34m\u001b[0m\u001b[0m\n\u001b[0m\u001b[1;32m    632\u001b[0m         \u001b[0;32melse\u001b[0m\u001b[0;34m:\u001b[0m\u001b[0;34m\u001b[0m\u001b[0;34m\u001b[0m\u001b[0m\n\u001b[1;32m    633\u001b[0m             \u001b[0mv\u001b[0m \u001b[0;34m=\u001b[0m \u001b[0mself\u001b[0m\u001b[0;34m.\u001b[0m\u001b[0m_sslobj\u001b[0m\u001b[0;34m.\u001b[0m\u001b[0mread\u001b[0m\u001b[0;34m(\u001b[0m\u001b[0mlen\u001b[0m\u001b[0;34m)\u001b[0m\u001b[0;34m\u001b[0m\u001b[0;34m\u001b[0m\u001b[0m\n",
      "\u001b[0;31mKeyboardInterrupt\u001b[0m: "
     ]
    }
   ],
   "source": [
    "start = timeit.default_timer()\n",
    "\n",
    "# create empty lists where the results are going to be stored\n",
    "artist_name = []\n",
    "track_name = []\n",
    "popularity = []\n",
    "track_id = []\n",
    "\n",
    "for k in range(len(df_lineup)):\n",
    "    lineup = 'artist:' + df_lineup['artist_name'][k]\n",
    "    for i in range(0,1000,50):\n",
    "        track_results = sp.search(q=lineup, type='track', limit=50,offset=i)\n",
    "        for i, t in enumerate(track_results['tracks']['items']):\n",
    "            artist_name.append(t['artists'][0]['name'])\n",
    "            track_name.append(t['name'])\n",
    "            track_id.append(t['id'])\n",
    "            popularity.append(t['popularity'])\n",
    "    \n",
    "    progress = '(' + str(k) + '/' + str(len(df_lineup)) + ')'\n",
    "    print(progress, \"Finished downloading songs for: \", df_lineup['artist_name'][k])\n",
    "stop = timeit.default_timer()\n",
    "print ('Time to run this code (in seconds):', stop - start)\n"
   ]
  },
  {
   "cell_type": "markdown",
   "metadata": {},
   "source": [
    "# 3. EDA\n",
    "Now for some exploratory data analysis on the data we just collected."
   ]
  },
  {
   "cell_type": "markdown",
   "metadata": {},
   "source": [
    "Checking the `track_id` list:"
   ]
  },
  {
   "cell_type": "code",
   "execution_count": 7,
   "metadata": {},
   "outputs": [
    {
     "name": "stdout",
     "output_type": "stream",
     "text": [
      "number of elements in track_id list: 9885\n"
     ]
    }
   ],
   "source": [
    "print('number of elements in track_id list:', len(track_id))"
   ]
  },
  {
   "cell_type": "markdown",
   "metadata": {},
   "source": [
    "Loading the lists into a dataframe"
   ]
  },
  {
   "cell_type": "code",
   "execution_count": 26,
   "metadata": {},
   "outputs": [
    {
     "name": "stdout",
     "output_type": "stream",
     "text": [
      "(9885, 4)\n"
     ]
    },
    {
     "data": {
      "text/html": [
       "<div>\n",
       "<style scoped>\n",
       "    .dataframe tbody tr th:only-of-type {\n",
       "        vertical-align: middle;\n",
       "    }\n",
       "\n",
       "    .dataframe tbody tr th {\n",
       "        vertical-align: top;\n",
       "    }\n",
       "\n",
       "    .dataframe thead th {\n",
       "        text-align: right;\n",
       "    }\n",
       "</style>\n",
       "<table border=\"1\" class=\"dataframe\">\n",
       "  <thead>\n",
       "    <tr style=\"text-align: right;\">\n",
       "      <th></th>\n",
       "      <th>artist_name</th>\n",
       "      <th>track_name</th>\n",
       "      <th>track_id</th>\n",
       "      <th>popularity</th>\n",
       "    </tr>\n",
       "  </thead>\n",
       "  <tbody>\n",
       "    <tr>\n",
       "      <th>0</th>\n",
       "      <td>16BL</td>\n",
       "      <td>Vette</td>\n",
       "      <td>39Oui3EXtdMLKQqQIFjRpa</td>\n",
       "      <td>45</td>\n",
       "    </tr>\n",
       "    <tr>\n",
       "      <th>1</th>\n",
       "      <td>16BL</td>\n",
       "      <td>Deep In My Soul - Original Mix</td>\n",
       "      <td>5nmr0qCA3JXN2MRdEDUFi6</td>\n",
       "      <td>45</td>\n",
       "    </tr>\n",
       "    <tr>\n",
       "      <th>2</th>\n",
       "      <td>16BL</td>\n",
       "      <td>Leaving Home</td>\n",
       "      <td>2S3UsA5sFyCGdpdWqkusTe</td>\n",
       "      <td>42</td>\n",
       "    </tr>\n",
       "    <tr>\n",
       "      <th>3</th>\n",
       "      <td>16BL</td>\n",
       "      <td>Got This Feeling [Mix Cut] - Original Mix</td>\n",
       "      <td>497k4sQ2fYCqx7LvMzu7jI</td>\n",
       "      <td>40</td>\n",
       "    </tr>\n",
       "    <tr>\n",
       "      <th>4</th>\n",
       "      <td>16BL</td>\n",
       "      <td>You Are High - Mixed</td>\n",
       "      <td>1jIQineO80eKy3CDenpUEn</td>\n",
       "      <td>39</td>\n",
       "    </tr>\n",
       "  </tbody>\n",
       "</table>\n",
       "</div>"
      ],
      "text/plain": [
       "  artist_name                                 track_name  \\\n",
       "0        16BL                                      Vette   \n",
       "1        16BL             Deep In My Soul - Original Mix   \n",
       "2        16BL                               Leaving Home   \n",
       "3        16BL  Got This Feeling [Mix Cut] - Original Mix   \n",
       "4        16BL                       You Are High - Mixed   \n",
       "\n",
       "                 track_id  popularity  \n",
       "0  39Oui3EXtdMLKQqQIFjRpa          45  \n",
       "1  5nmr0qCA3JXN2MRdEDUFi6          45  \n",
       "2  2S3UsA5sFyCGdpdWqkusTe          42  \n",
       "3  497k4sQ2fYCqx7LvMzu7jI          40  \n",
       "4  1jIQineO80eKy3CDenpUEn          39  "
      ]
     },
     "execution_count": 26,
     "metadata": {},
     "output_type": "execute_result"
    }
   ],
   "source": [
    "df_tracks = pd.DataFrame({'artist_name':artist_name, \n",
    "                          'track_name':track_name, \n",
    "                          'track_id':track_id, \n",
    "                          'popularity':popularity})\n",
    "print(df_tracks.shape)\n",
    "df_tracks.head()"
   ]
  },
  {
   "cell_type": "markdown",
   "metadata": {},
   "source": [
    "Let's view some information about the data frame"
   ]
  },
  {
   "cell_type": "code",
   "execution_count": 9,
   "metadata": {},
   "outputs": [
    {
     "name": "stdout",
     "output_type": "stream",
     "text": [
      "<class 'pandas.core.frame.DataFrame'>\n",
      "RangeIndex: 9885 entries, 0 to 9884\n",
      "Data columns (total 4 columns):\n",
      "artist_name    9885 non-null object\n",
      "track_name     9885 non-null object\n",
      "track_id       9885 non-null object\n",
      "popularity     9885 non-null int64\n",
      "dtypes: int64(1), object(3)\n",
      "memory usage: 309.0+ KB\n"
     ]
    }
   ],
   "source": [
    "df_tracks.info()"
   ]
  },
  {
   "cell_type": "markdown",
   "metadata": {},
   "source": [
    "## Checking Our Data\n",
    "There can be duplicates of the same track under different `track_id`s.  This is caused by the track being released in singles albums and full albums. \n",
    "\n",
    "Let's check how many duplicates there are by checking the `artist_name` and `track_name`. "
   ]
  },
  {
   "cell_type": "code",
   "execution_count": 10,
   "metadata": {},
   "outputs": [
    {
     "name": "stdout",
     "output_type": "stream",
     "text": [
      "Number of duplicate tracks:  1217\n"
     ]
    }
   ],
   "source": [
    "# group the entries by artist_name and track_name and check for duplicates\n",
    "\n",
    "duplicates = df_tracks.groupby(['artist_name','track_name'], as_index=True).size()\n",
    "print(\"Number of duplicate tracks: \", duplicates[duplicates > 1].count() )\n"
   ]
  },
  {
   "cell_type": "markdown",
   "metadata": {},
   "source": [
    "There are a bunch of duplicate tracks in the dataframe.  But which should be dropped and which should be kept?  We can sort by the track `popularity`.  \n",
    "\n",
    "From the official [Spotify docs](https://developer.spotify.com/documentation/web-api/reference/search/search/):\n",
    "\n",
    "> \"The popularity of the track. The value will be between 0 and 100, with 100 being the most popular.\n",
    "The popularity of a track is a value between 0 and 100, with 100 being the most popular. The popularity is calculated by algorithm and is based, in the most part, on the total number of plays the track has had and how recent those plays are. \n",
    "Generally speaking, songs that are being played a lot now will have a higher popularity than songs that were played a lot in the past. Duplicate tracks (e.g. the same track from a single and an album) are rated independently. Artist and album popularity is derived mathematically from track popularity. Note that the popularity value may lag actual popularity by a few days: the value is not updated in real time.\"\n",
    "\n",
    "The `popularity` metric isn't based solely on 'number of plays' but also how recently those plays were.  "
   ]
  },
  {
   "cell_type": "code",
   "execution_count": 11,
   "metadata": {},
   "outputs": [],
   "source": [
    "df_tracks.sort_values(by=['artist_name', 'track_name', 'popularity'], ascending=False, inplace=True)\n",
    "df_tracks.drop_duplicates(subset=['artist_name', 'track_name'], keep='first', inplace=True)"
   ]
  },
  {
   "cell_type": "markdown",
   "metadata": {},
   "source": [
    "Now we check again if there are duplicates:"
   ]
  },
  {
   "cell_type": "code",
   "execution_count": 12,
   "metadata": {},
   "outputs": [
    {
     "name": "stdout",
     "output_type": "stream",
     "text": [
      "Number of duplicate tracks:  0\n"
     ]
    }
   ],
   "source": [
    "# group the entries by artist_name and track_name and check for duplicates\n",
    "duplicates = df_tracks.groupby(['artist_name','track_name'], as_index=True).size()\n",
    "print(\"Number of duplicate tracks: \", duplicates[duplicates > 1].count() )"
   ]
  },
  {
   "cell_type": "markdown",
   "metadata": {},
   "source": [
    "Alternatively, we can check for duplicates via:"
   ]
  },
  {
   "cell_type": "code",
   "execution_count": 13,
   "metadata": {},
   "outputs": [
    {
     "data": {
      "text/plain": [
       "artist_name    0\n",
       "track_name     0\n",
       "track_id       0\n",
       "popularity     0\n",
       "dtype: int64"
      ]
     },
     "execution_count": 13,
     "metadata": {},
     "output_type": "execute_result"
    }
   ],
   "source": [
    "df_tracks[df_tracks.duplicated(subset=['artist_name','track_name'],keep=False)].count()"
   ]
  },
  {
   "cell_type": "markdown",
   "metadata": {},
   "source": [
    "Check the number of tracks after dropping duplicates:"
   ]
  },
  {
   "cell_type": "code",
   "execution_count": 14,
   "metadata": {},
   "outputs": [
    {
     "data": {
      "text/plain": [
       "(7887, 4)"
      ]
     },
     "execution_count": 14,
     "metadata": {},
     "output_type": "execute_result"
    }
   ],
   "source": [
    "df_tracks.shape"
   ]
  },
  {
   "cell_type": "markdown",
   "metadata": {},
   "source": [
    "# 4. Retrieve Audio Features Data\n",
    "Using the [audio features endpoint](https://developer.spotify.com/documentation/web-api/reference/tracks/get-several-audio-features/) we can retrieve the audio features data for the tracks we have collected.\n",
    "\n",
    "There is a 100 track ID limit per query for this endpoint.  We can use anested for loop to pull track IDs in batches of size 100. "
   ]
  },
  {
   "cell_type": "code",
   "execution_count": 15,
   "metadata": {},
   "outputs": [
    {
     "name": "stdout",
     "output_type": "stream",
     "text": [
      "Number of tracks where no audio features were available: 102\n",
      "Code runtime (sec): 20.385093240998685\n"
     ]
    }
   ],
   "source": [
    "# Measuring time\n",
    "start = timeit.default_timer()\n",
    "\n",
    "rows = []\n",
    "batchsize = 100\n",
    "None_counter = 0\n",
    "\n",
    "for i in range(0, len(df_tracks['track_id']), batchsize): \n",
    "    batch = df_tracks['track_id'][i:i+batchsize]\n",
    "    feature_results = sp.audio_features(batch)\n",
    "    \n",
    "    for i, t in enumerate(feature_results):\n",
    "        if t == None:\n",
    "            None_counter = None_counter + 1\n",
    "        else:\n",
    "            rows.append(t)\n",
    "            \n",
    "print('Number of tracks where no audio features were available:', None_counter)\n",
    "\n",
    "stop = timeit.default_timer()\n",
    "print ('Code runtime (sec):', stop - start)"
   ]
  },
  {
   "cell_type": "markdown",
   "metadata": {},
   "source": [
    "# 5. EDA & Data Preparation"
   ]
  },
  {
   "cell_type": "code",
   "execution_count": 16,
   "metadata": {},
   "outputs": [
    {
     "name": "stdout",
     "output_type": "stream",
     "text": [
      "Number of elements in track_feature list: 7785\n"
     ]
    }
   ],
   "source": [
    "print('Number of elements in track_feature list:', len(rows))"
   ]
  },
  {
   "cell_type": "markdown",
   "metadata": {},
   "source": [
    "Loading audio features into a dataframe:"
   ]
  },
  {
   "cell_type": "code",
   "execution_count": 17,
   "metadata": {},
   "outputs": [
    {
     "name": "stdout",
     "output_type": "stream",
     "text": [
      "Shape of dataset: (7785, 18)\n"
     ]
    },
    {
     "data": {
      "text/html": [
       "<div>\n",
       "<style scoped>\n",
       "    .dataframe tbody tr th:only-of-type {\n",
       "        vertical-align: middle;\n",
       "    }\n",
       "\n",
       "    .dataframe tbody tr th {\n",
       "        vertical-align: top;\n",
       "    }\n",
       "\n",
       "    .dataframe thead th {\n",
       "        text-align: right;\n",
       "    }\n",
       "</style>\n",
       "<table border=\"1\" class=\"dataframe\">\n",
       "  <thead>\n",
       "    <tr style=\"text-align: right;\">\n",
       "      <th></th>\n",
       "      <th>acousticness</th>\n",
       "      <th>analysis_url</th>\n",
       "      <th>danceability</th>\n",
       "      <th>duration_ms</th>\n",
       "      <th>energy</th>\n",
       "      <th>id</th>\n",
       "      <th>instrumentalness</th>\n",
       "      <th>key</th>\n",
       "      <th>liveness</th>\n",
       "      <th>loudness</th>\n",
       "      <th>mode</th>\n",
       "      <th>speechiness</th>\n",
       "      <th>tempo</th>\n",
       "      <th>time_signature</th>\n",
       "      <th>track_href</th>\n",
       "      <th>type</th>\n",
       "      <th>uri</th>\n",
       "      <th>valence</th>\n",
       "    </tr>\n",
       "  </thead>\n",
       "  <tbody>\n",
       "    <tr>\n",
       "      <th>0</th>\n",
       "      <td>0.03620</td>\n",
       "      <td>https://api.spotify.com/v1/audio-analysis/6tew...</td>\n",
       "      <td>0.612</td>\n",
       "      <td>222511</td>\n",
       "      <td>0.865</td>\n",
       "      <td>6tewlP12DteyK9l7N0obC6</td>\n",
       "      <td>0.000047</td>\n",
       "      <td>4</td>\n",
       "      <td>0.1460</td>\n",
       "      <td>-7.974</td>\n",
       "      <td>1</td>\n",
       "      <td>0.0505</td>\n",
       "      <td>106.898</td>\n",
       "      <td>4</td>\n",
       "      <td>https://api.spotify.com/v1/tracks/6tewlP12Dtey...</td>\n",
       "      <td>audio_features</td>\n",
       "      <td>spotify:track:6tewlP12DteyK9l7N0obC6</td>\n",
       "      <td>0.856</td>\n",
       "    </tr>\n",
       "    <tr>\n",
       "      <th>1</th>\n",
       "      <td>0.30000</td>\n",
       "      <td>https://api.spotify.com/v1/audio-analysis/5zd1...</td>\n",
       "      <td>0.693</td>\n",
       "      <td>236042</td>\n",
       "      <td>0.870</td>\n",
       "      <td>5zd1UPKRyOVFUpVCBwH2ot</td>\n",
       "      <td>0.000000</td>\n",
       "      <td>7</td>\n",
       "      <td>0.2010</td>\n",
       "      <td>-5.706</td>\n",
       "      <td>1</td>\n",
       "      <td>0.0765</td>\n",
       "      <td>140.007</td>\n",
       "      <td>4</td>\n",
       "      <td>https://api.spotify.com/v1/tracks/5zd1UPKRyOVF...</td>\n",
       "      <td>audio_features</td>\n",
       "      <td>spotify:track:5zd1UPKRyOVFUpVCBwH2ot</td>\n",
       "      <td>0.844</td>\n",
       "    </tr>\n",
       "    <tr>\n",
       "      <th>2</th>\n",
       "      <td>0.25000</td>\n",
       "      <td>https://api.spotify.com/v1/audio-analysis/1Ul6...</td>\n",
       "      <td>0.532</td>\n",
       "      <td>231131</td>\n",
       "      <td>0.796</td>\n",
       "      <td>1Ul6aOajjwkm4Gpncei7N3</td>\n",
       "      <td>0.000000</td>\n",
       "      <td>10</td>\n",
       "      <td>0.0939</td>\n",
       "      <td>-7.214</td>\n",
       "      <td>0</td>\n",
       "      <td>0.0411</td>\n",
       "      <td>169.929</td>\n",
       "      <td>4</td>\n",
       "      <td>https://api.spotify.com/v1/tracks/1Ul6aOajjwkm...</td>\n",
       "      <td>audio_features</td>\n",
       "      <td>spotify:track:1Ul6aOajjwkm4Gpncei7N3</td>\n",
       "      <td>0.917</td>\n",
       "    </tr>\n",
       "    <tr>\n",
       "      <th>3</th>\n",
       "      <td>0.08330</td>\n",
       "      <td>https://api.spotify.com/v1/audio-analysis/565F...</td>\n",
       "      <td>0.569</td>\n",
       "      <td>209450</td>\n",
       "      <td>0.746</td>\n",
       "      <td>565FReKHXs16ki0nlmJrsB</td>\n",
       "      <td>0.000003</td>\n",
       "      <td>9</td>\n",
       "      <td>0.0712</td>\n",
       "      <td>-7.578</td>\n",
       "      <td>0</td>\n",
       "      <td>0.0440</td>\n",
       "      <td>135.036</td>\n",
       "      <td>4</td>\n",
       "      <td>https://api.spotify.com/v1/tracks/565FReKHXs16...</td>\n",
       "      <td>audio_features</td>\n",
       "      <td>spotify:track:565FReKHXs16ki0nlmJrsB</td>\n",
       "      <td>0.596</td>\n",
       "    </tr>\n",
       "    <tr>\n",
       "      <th>4</th>\n",
       "      <td>0.00272</td>\n",
       "      <td>https://api.spotify.com/v1/audio-analysis/7ati...</td>\n",
       "      <td>0.510</td>\n",
       "      <td>198165</td>\n",
       "      <td>0.727</td>\n",
       "      <td>7atiIWXBaeA5oYelLxqTZV</td>\n",
       "      <td>0.000000</td>\n",
       "      <td>9</td>\n",
       "      <td>0.2670</td>\n",
       "      <td>-7.851</td>\n",
       "      <td>0</td>\n",
       "      <td>0.0309</td>\n",
       "      <td>127.068</td>\n",
       "      <td>1</td>\n",
       "      <td>https://api.spotify.com/v1/tracks/7atiIWXBaeA5...</td>\n",
       "      <td>audio_features</td>\n",
       "      <td>spotify:track:7atiIWXBaeA5oYelLxqTZV</td>\n",
       "      <td>0.809</td>\n",
       "    </tr>\n",
       "  </tbody>\n",
       "</table>\n",
       "</div>"
      ],
      "text/plain": [
       "   acousticness                                       analysis_url  \\\n",
       "0       0.03620  https://api.spotify.com/v1/audio-analysis/6tew...   \n",
       "1       0.30000  https://api.spotify.com/v1/audio-analysis/5zd1...   \n",
       "2       0.25000  https://api.spotify.com/v1/audio-analysis/1Ul6...   \n",
       "3       0.08330  https://api.spotify.com/v1/audio-analysis/565F...   \n",
       "4       0.00272  https://api.spotify.com/v1/audio-analysis/7ati...   \n",
       "\n",
       "   danceability  duration_ms  energy                      id  \\\n",
       "0         0.612       222511   0.865  6tewlP12DteyK9l7N0obC6   \n",
       "1         0.693       236042   0.870  5zd1UPKRyOVFUpVCBwH2ot   \n",
       "2         0.532       231131   0.796  1Ul6aOajjwkm4Gpncei7N3   \n",
       "3         0.569       209450   0.746  565FReKHXs16ki0nlmJrsB   \n",
       "4         0.510       198165   0.727  7atiIWXBaeA5oYelLxqTZV   \n",
       "\n",
       "   instrumentalness  key  liveness  loudness  mode  speechiness    tempo  \\\n",
       "0          0.000047    4    0.1460    -7.974     1       0.0505  106.898   \n",
       "1          0.000000    7    0.2010    -5.706     1       0.0765  140.007   \n",
       "2          0.000000   10    0.0939    -7.214     0       0.0411  169.929   \n",
       "3          0.000003    9    0.0712    -7.578     0       0.0440  135.036   \n",
       "4          0.000000    9    0.2670    -7.851     0       0.0309  127.068   \n",
       "\n",
       "   time_signature                                         track_href  \\\n",
       "0               4  https://api.spotify.com/v1/tracks/6tewlP12Dtey...   \n",
       "1               4  https://api.spotify.com/v1/tracks/5zd1UPKRyOVF...   \n",
       "2               4  https://api.spotify.com/v1/tracks/1Ul6aOajjwkm...   \n",
       "3               4  https://api.spotify.com/v1/tracks/565FReKHXs16...   \n",
       "4               1  https://api.spotify.com/v1/tracks/7atiIWXBaeA5...   \n",
       "\n",
       "             type                                   uri  valence  \n",
       "0  audio_features  spotify:track:6tewlP12DteyK9l7N0obC6    0.856  \n",
       "1  audio_features  spotify:track:5zd1UPKRyOVFUpVCBwH2ot    0.844  \n",
       "2  audio_features  spotify:track:1Ul6aOajjwkm4Gpncei7N3    0.917  \n",
       "3  audio_features  spotify:track:565FReKHXs16ki0nlmJrsB    0.596  \n",
       "4  audio_features  spotify:track:7atiIWXBaeA5oYelLxqTZV    0.809  "
      ]
     },
     "execution_count": 17,
     "metadata": {},
     "output_type": "execute_result"
    }
   ],
   "source": [
    "df_audio_features = pd.DataFrame.from_dict(rows, orient='columns')\n",
    "print(\"Shape of dataset:\", df_audio_features.shape)\n",
    "df_audio_features.head()"
   ]
  },
  {
   "cell_type": "code",
   "execution_count": 18,
   "metadata": {
    "scrolled": true
   },
   "outputs": [
    {
     "name": "stdout",
     "output_type": "stream",
     "text": [
      "<class 'pandas.core.frame.DataFrame'>\n",
      "RangeIndex: 7785 entries, 0 to 7784\n",
      "Data columns (total 18 columns):\n",
      "acousticness        7785 non-null float64\n",
      "analysis_url        7785 non-null object\n",
      "danceability        7785 non-null float64\n",
      "duration_ms         7785 non-null int64\n",
      "energy              7785 non-null float64\n",
      "id                  7785 non-null object\n",
      "instrumentalness    7785 non-null float64\n",
      "key                 7785 non-null int64\n",
      "liveness            7785 non-null float64\n",
      "loudness            7785 non-null float64\n",
      "mode                7785 non-null int64\n",
      "speechiness         7785 non-null float64\n",
      "tempo               7785 non-null float64\n",
      "time_signature      7785 non-null int64\n",
      "track_href          7785 non-null object\n",
      "type                7785 non-null object\n",
      "uri                 7785 non-null object\n",
      "valence             7785 non-null float64\n",
      "dtypes: float64(9), int64(4), object(5)\n",
      "memory usage: 1.1+ MB\n"
     ]
    }
   ],
   "source": [
    "df_audio_features.info()"
   ]
  },
  {
   "cell_type": "code",
   "execution_count": null,
   "metadata": {},
   "outputs": [],
   "source": []
  },
  {
   "cell_type": "markdown",
   "metadata": {},
   "source": [
    "Renaming `id` to `track_id` to match the `df_tracks` dataframe:"
   ]
  },
  {
   "cell_type": "code",
   "execution_count": 19,
   "metadata": {},
   "outputs": [
    {
     "data": {
      "text/plain": [
       "(7785, 18)"
      ]
     },
     "execution_count": 19,
     "metadata": {},
     "output_type": "execute_result"
    }
   ],
   "source": [
    "df_audio_features.rename(columns = {'id': 'track_id'}, inplace=True)\n",
    "df_audio_features.shape # checking our progress"
   ]
  },
  {
   "cell_type": "code",
   "execution_count": 20,
   "metadata": {},
   "outputs": [
    {
     "data": {
      "text/html": [
       "<div>\n",
       "<style scoped>\n",
       "    .dataframe tbody tr th:only-of-type {\n",
       "        vertical-align: middle;\n",
       "    }\n",
       "\n",
       "    .dataframe tbody tr th {\n",
       "        vertical-align: top;\n",
       "    }\n",
       "\n",
       "    .dataframe thead th {\n",
       "        text-align: right;\n",
       "    }\n",
       "</style>\n",
       "<table border=\"1\" class=\"dataframe\">\n",
       "  <thead>\n",
       "    <tr style=\"text-align: right;\">\n",
       "      <th></th>\n",
       "      <th>track_id</th>\n",
       "      <th>analysis_url</th>\n",
       "      <th>track_href</th>\n",
       "      <th>type</th>\n",
       "      <th>uri</th>\n",
       "    </tr>\n",
       "  </thead>\n",
       "  <tbody>\n",
       "    <tr>\n",
       "      <th>0</th>\n",
       "      <td>6tewlP12DteyK9l7N0obC6</td>\n",
       "      <td>https://api.spotify.com/v1/audio-analysis/6tew...</td>\n",
       "      <td>https://api.spotify.com/v1/tracks/6tewlP12Dtey...</td>\n",
       "      <td>audio_features</td>\n",
       "      <td>spotify:track:6tewlP12DteyK9l7N0obC6</td>\n",
       "    </tr>\n",
       "    <tr>\n",
       "      <th>1</th>\n",
       "      <td>5zd1UPKRyOVFUpVCBwH2ot</td>\n",
       "      <td>https://api.spotify.com/v1/audio-analysis/5zd1...</td>\n",
       "      <td>https://api.spotify.com/v1/tracks/5zd1UPKRyOVF...</td>\n",
       "      <td>audio_features</td>\n",
       "      <td>spotify:track:5zd1UPKRyOVFUpVCBwH2ot</td>\n",
       "    </tr>\n",
       "    <tr>\n",
       "      <th>2</th>\n",
       "      <td>1Ul6aOajjwkm4Gpncei7N3</td>\n",
       "      <td>https://api.spotify.com/v1/audio-analysis/1Ul6...</td>\n",
       "      <td>https://api.spotify.com/v1/tracks/1Ul6aOajjwkm...</td>\n",
       "      <td>audio_features</td>\n",
       "      <td>spotify:track:1Ul6aOajjwkm4Gpncei7N3</td>\n",
       "    </tr>\n",
       "    <tr>\n",
       "      <th>3</th>\n",
       "      <td>565FReKHXs16ki0nlmJrsB</td>\n",
       "      <td>https://api.spotify.com/v1/audio-analysis/565F...</td>\n",
       "      <td>https://api.spotify.com/v1/tracks/565FReKHXs16...</td>\n",
       "      <td>audio_features</td>\n",
       "      <td>spotify:track:565FReKHXs16ki0nlmJrsB</td>\n",
       "    </tr>\n",
       "    <tr>\n",
       "      <th>4</th>\n",
       "      <td>7atiIWXBaeA5oYelLxqTZV</td>\n",
       "      <td>https://api.spotify.com/v1/audio-analysis/7ati...</td>\n",
       "      <td>https://api.spotify.com/v1/tracks/7atiIWXBaeA5...</td>\n",
       "      <td>audio_features</td>\n",
       "      <td>spotify:track:7atiIWXBaeA5oYelLxqTZV</td>\n",
       "    </tr>\n",
       "  </tbody>\n",
       "</table>\n",
       "</div>"
      ],
      "text/plain": [
       "                 track_id                                       analysis_url  \\\n",
       "0  6tewlP12DteyK9l7N0obC6  https://api.spotify.com/v1/audio-analysis/6tew...   \n",
       "1  5zd1UPKRyOVFUpVCBwH2ot  https://api.spotify.com/v1/audio-analysis/5zd1...   \n",
       "2  1Ul6aOajjwkm4Gpncei7N3  https://api.spotify.com/v1/audio-analysis/1Ul6...   \n",
       "3  565FReKHXs16ki0nlmJrsB  https://api.spotify.com/v1/audio-analysis/565F...   \n",
       "4  7atiIWXBaeA5oYelLxqTZV  https://api.spotify.com/v1/audio-analysis/7ati...   \n",
       "\n",
       "                                          track_href            type  \\\n",
       "0  https://api.spotify.com/v1/tracks/6tewlP12Dtey...  audio_features   \n",
       "1  https://api.spotify.com/v1/tracks/5zd1UPKRyOVF...  audio_features   \n",
       "2  https://api.spotify.com/v1/tracks/1Ul6aOajjwkm...  audio_features   \n",
       "3  https://api.spotify.com/v1/tracks/565FReKHXs16...  audio_features   \n",
       "4  https://api.spotify.com/v1/tracks/7atiIWXBaeA5...  audio_features   \n",
       "\n",
       "                                    uri  \n",
       "0  spotify:track:6tewlP12DteyK9l7N0obC6  \n",
       "1  spotify:track:5zd1UPKRyOVFUpVCBwH2ot  \n",
       "2  spotify:track:1Ul6aOajjwkm4Gpncei7N3  \n",
       "3  spotify:track:565FReKHXs16ki0nlmJrsB  \n",
       "4  spotify:track:7atiIWXBaeA5oYelLxqTZV  "
      ]
     },
     "execution_count": 20,
     "metadata": {},
     "output_type": "execute_result"
    }
   ],
   "source": [
    "df_track_meta_data = df_audio_features[['track_id', 'analysis_url', 'track_href', 'type', 'uri']]\n",
    "df_track_meta_data.to_csv('data/anjunadeep-explorations-track-meta-data.csv')\n",
    "df_track_meta_data.head()"
   ]
  },
  {
   "cell_type": "markdown",
   "metadata": {},
   "source": [
    "Dropping all variables (columns) not relevant to the analysis:"
   ]
  },
  {
   "cell_type": "code",
   "execution_count": 21,
   "metadata": {},
   "outputs": [],
   "source": [
    "columns_to_drop = ['analysis_url', 'track_href', 'type', 'uri']\n",
    "df_audio_features.drop(columns_to_drop, axis=1, inplace=True)"
   ]
  },
  {
   "cell_type": "markdown",
   "metadata": {},
   "source": [
    "To combine the two dataframes we do an `inner` merge to only keep track IDs that are in both datasets."
   ]
  },
  {
   "cell_type": "code",
   "execution_count": 22,
   "metadata": {},
   "outputs": [
    {
     "name": "stdout",
     "output_type": "stream",
     "text": [
      "Shape of dataset: (7785, 14)\n"
     ]
    },
    {
     "data": {
      "text/html": [
       "<div>\n",
       "<style scoped>\n",
       "    .dataframe tbody tr th:only-of-type {\n",
       "        vertical-align: middle;\n",
       "    }\n",
       "\n",
       "    .dataframe tbody tr th {\n",
       "        vertical-align: top;\n",
       "    }\n",
       "\n",
       "    .dataframe thead th {\n",
       "        text-align: right;\n",
       "    }\n",
       "</style>\n",
       "<table border=\"1\" class=\"dataframe\">\n",
       "  <thead>\n",
       "    <tr style=\"text-align: right;\">\n",
       "      <th></th>\n",
       "      <th>artist_name</th>\n",
       "      <th>track_name</th>\n",
       "      <th>track_id</th>\n",
       "      <th>popularity</th>\n",
       "      <th>acousticness</th>\n",
       "      <th>danceability</th>\n",
       "      <th>duration_ms</th>\n",
       "      <th>energy</th>\n",
       "      <th>instrumentalness</th>\n",
       "      <th>key</th>\n",
       "      <th>liveness</th>\n",
       "      <th>loudness</th>\n",
       "      <th>mode</th>\n",
       "      <th>speechiness</th>\n",
       "      <th>tempo</th>\n",
       "      <th>time_signature</th>\n",
       "      <th>valence</th>\n",
       "    </tr>\n",
       "  </thead>\n",
       "  <tbody>\n",
       "    <tr>\n",
       "      <th>0</th>\n",
       "      <td>Žika Antić</td>\n",
       "      <td>Uzice</td>\n",
       "      <td>6tewlP12DteyK9l7N0obC6</td>\n",
       "      <td>0</td>\n",
       "      <td>0.03620</td>\n",
       "      <td>0.612</td>\n",
       "      <td>222511</td>\n",
       "      <td>0.865</td>\n",
       "      <td>0.000047</td>\n",
       "      <td>4</td>\n",
       "      <td>0.1460</td>\n",
       "      <td>-7.974</td>\n",
       "      <td>1</td>\n",
       "      <td>0.0505</td>\n",
       "      <td>106.898</td>\n",
       "      <td>4</td>\n",
       "      <td>0.856</td>\n",
       "    </tr>\n",
       "    <tr>\n",
       "      <th>1</th>\n",
       "      <td>Žika Antić</td>\n",
       "      <td>Sta ako sam je voleo</td>\n",
       "      <td>5zd1UPKRyOVFUpVCBwH2ot</td>\n",
       "      <td>0</td>\n",
       "      <td>0.30000</td>\n",
       "      <td>0.693</td>\n",
       "      <td>236042</td>\n",
       "      <td>0.870</td>\n",
       "      <td>0.000000</td>\n",
       "      <td>7</td>\n",
       "      <td>0.2010</td>\n",
       "      <td>-5.706</td>\n",
       "      <td>1</td>\n",
       "      <td>0.0765</td>\n",
       "      <td>140.007</td>\n",
       "      <td>4</td>\n",
       "      <td>0.844</td>\n",
       "    </tr>\n",
       "    <tr>\n",
       "      <th>2</th>\n",
       "      <td>Žika Antić</td>\n",
       "      <td>Kise jesenje</td>\n",
       "      <td>1Ul6aOajjwkm4Gpncei7N3</td>\n",
       "      <td>0</td>\n",
       "      <td>0.25000</td>\n",
       "      <td>0.532</td>\n",
       "      <td>231131</td>\n",
       "      <td>0.796</td>\n",
       "      <td>0.000000</td>\n",
       "      <td>10</td>\n",
       "      <td>0.0939</td>\n",
       "      <td>-7.214</td>\n",
       "      <td>0</td>\n",
       "      <td>0.0411</td>\n",
       "      <td>169.929</td>\n",
       "      <td>4</td>\n",
       "      <td>0.917</td>\n",
       "    </tr>\n",
       "    <tr>\n",
       "      <th>3</th>\n",
       "      <td>Žika Antić</td>\n",
       "      <td>Kad te budu pitali</td>\n",
       "      <td>565FReKHXs16ki0nlmJrsB</td>\n",
       "      <td>0</td>\n",
       "      <td>0.08330</td>\n",
       "      <td>0.569</td>\n",
       "      <td>209450</td>\n",
       "      <td>0.746</td>\n",
       "      <td>0.000003</td>\n",
       "      <td>9</td>\n",
       "      <td>0.0712</td>\n",
       "      <td>-7.578</td>\n",
       "      <td>0</td>\n",
       "      <td>0.0440</td>\n",
       "      <td>135.036</td>\n",
       "      <td>4</td>\n",
       "      <td>0.596</td>\n",
       "    </tr>\n",
       "    <tr>\n",
       "      <th>4</th>\n",
       "      <td>Žika Antić</td>\n",
       "      <td>Evo moje sudbine</td>\n",
       "      <td>7atiIWXBaeA5oYelLxqTZV</td>\n",
       "      <td>0</td>\n",
       "      <td>0.00272</td>\n",
       "      <td>0.510</td>\n",
       "      <td>198165</td>\n",
       "      <td>0.727</td>\n",
       "      <td>0.000000</td>\n",
       "      <td>9</td>\n",
       "      <td>0.2670</td>\n",
       "      <td>-7.851</td>\n",
       "      <td>0</td>\n",
       "      <td>0.0309</td>\n",
       "      <td>127.068</td>\n",
       "      <td>1</td>\n",
       "      <td>0.809</td>\n",
       "    </tr>\n",
       "  </tbody>\n",
       "</table>\n",
       "</div>"
      ],
      "text/plain": [
       "  artist_name            track_name                track_id  popularity  \\\n",
       "0  Žika Antić                 Uzice  6tewlP12DteyK9l7N0obC6           0   \n",
       "1  Žika Antić  Sta ako sam je voleo  5zd1UPKRyOVFUpVCBwH2ot           0   \n",
       "2  Žika Antić          Kise jesenje  1Ul6aOajjwkm4Gpncei7N3           0   \n",
       "3  Žika Antić    Kad te budu pitali  565FReKHXs16ki0nlmJrsB           0   \n",
       "4  Žika Antić      Evo moje sudbine  7atiIWXBaeA5oYelLxqTZV           0   \n",
       "\n",
       "   acousticness  danceability  duration_ms  energy  instrumentalness  key  \\\n",
       "0       0.03620         0.612       222511   0.865          0.000047    4   \n",
       "1       0.30000         0.693       236042   0.870          0.000000    7   \n",
       "2       0.25000         0.532       231131   0.796          0.000000   10   \n",
       "3       0.08330         0.569       209450   0.746          0.000003    9   \n",
       "4       0.00272         0.510       198165   0.727          0.000000    9   \n",
       "\n",
       "   liveness  loudness  mode  speechiness    tempo  time_signature  valence  \n",
       "0    0.1460    -7.974     1       0.0505  106.898               4    0.856  \n",
       "1    0.2010    -5.706     1       0.0765  140.007               4    0.844  \n",
       "2    0.0939    -7.214     0       0.0411  169.929               4    0.917  \n",
       "3    0.0712    -7.578     0       0.0440  135.036               4    0.596  \n",
       "4    0.2670    -7.851     0       0.0309  127.068               1    0.809  "
      ]
     },
     "execution_count": 22,
     "metadata": {},
     "output_type": "execute_result"
    }
   ],
   "source": [
    "df = pd.merge(df_tracks, df_audio_features, on='track_id', how='inner')\n",
    "print(\"Shape of dataset:\", df_audio_features.shape)\n",
    "df.head()"
   ]
  },
  {
   "cell_type": "code",
   "execution_count": 23,
   "metadata": {},
   "outputs": [
    {
     "name": "stdout",
     "output_type": "stream",
     "text": [
      "<class 'pandas.core.frame.DataFrame'>\n",
      "Int64Index: 7785 entries, 0 to 7784\n",
      "Data columns (total 17 columns):\n",
      "artist_name         7785 non-null object\n",
      "track_name          7785 non-null object\n",
      "track_id            7785 non-null object\n",
      "popularity          7785 non-null int64\n",
      "acousticness        7785 non-null float64\n",
      "danceability        7785 non-null float64\n",
      "duration_ms         7785 non-null int64\n",
      "energy              7785 non-null float64\n",
      "instrumentalness    7785 non-null float64\n",
      "key                 7785 non-null int64\n",
      "liveness            7785 non-null float64\n",
      "loudness            7785 non-null float64\n",
      "mode                7785 non-null int64\n",
      "speechiness         7785 non-null float64\n",
      "tempo               7785 non-null float64\n",
      "time_signature      7785 non-null int64\n",
      "valence             7785 non-null float64\n",
      "dtypes: float64(9), int64(5), object(3)\n",
      "memory usage: 1.1+ MB\n"
     ]
    }
   ],
   "source": [
    "df.info()"
   ]
  },
  {
   "cell_type": "markdown",
   "metadata": {},
   "source": [
    "Checking again for duplicate tracks:"
   ]
  },
  {
   "cell_type": "code",
   "execution_count": 24,
   "metadata": {},
   "outputs": [
    {
     "data": {
      "text/html": [
       "<div>\n",
       "<style scoped>\n",
       "    .dataframe tbody tr th:only-of-type {\n",
       "        vertical-align: middle;\n",
       "    }\n",
       "\n",
       "    .dataframe tbody tr th {\n",
       "        vertical-align: top;\n",
       "    }\n",
       "\n",
       "    .dataframe thead th {\n",
       "        text-align: right;\n",
       "    }\n",
       "</style>\n",
       "<table border=\"1\" class=\"dataframe\">\n",
       "  <thead>\n",
       "    <tr style=\"text-align: right;\">\n",
       "      <th></th>\n",
       "      <th>artist_name</th>\n",
       "      <th>track_name</th>\n",
       "      <th>track_id</th>\n",
       "      <th>popularity</th>\n",
       "      <th>acousticness</th>\n",
       "      <th>danceability</th>\n",
       "      <th>duration_ms</th>\n",
       "      <th>energy</th>\n",
       "      <th>instrumentalness</th>\n",
       "      <th>key</th>\n",
       "      <th>liveness</th>\n",
       "      <th>loudness</th>\n",
       "      <th>mode</th>\n",
       "      <th>speechiness</th>\n",
       "      <th>tempo</th>\n",
       "      <th>time_signature</th>\n",
       "      <th>valence</th>\n",
       "    </tr>\n",
       "  </thead>\n",
       "  <tbody>\n",
       "  </tbody>\n",
       "</table>\n",
       "</div>"
      ],
      "text/plain": [
       "Empty DataFrame\n",
       "Columns: [artist_name, track_name, track_id, popularity, acousticness, danceability, duration_ms, energy, instrumentalness, key, liveness, loudness, mode, speechiness, tempo, time_signature, valence]\n",
       "Index: []"
      ]
     },
     "execution_count": 24,
     "metadata": {},
     "output_type": "execute_result"
    }
   ],
   "source": [
    "df[df.duplicated(subset=['artist_name', 'track_name'], keep=False)]"
   ]
  },
  {
   "cell_type": "code",
   "execution_count": 30,
   "metadata": {},
   "outputs": [
    {
     "name": "stdout",
     "output_type": "stream",
     "text": [
      "artist_name\n",
      "16BL                                                                                                                                                              411\n",
      "4D : James Monro & Grant Collins                                                                                                                                    2\n",
      "ANTIC                                                                                                                                                               2\n",
      "Abafana Baka Molo                                                                                                                                                  34\n",
      "Adam Zahran, Hisham Zahran                                                                                                                                          4\n",
      "Adham Hisham, Hisham Zahran                                                                                                                                         1\n",
      "Adolf Von Lauer                                                                                                                                                     1\n",
      "Alex Marsh                                                                                                                                                         10\n",
      "Alexander Lauer                                                                                                                                                    10\n",
      "Alexis Marsh                                                                                                                                                       23\n",
      "Alfred Lauer Bigband                                                                                                                                               15\n",
      "Amanda Marsh                                                                                                                                                        3\n",
      "Andrew \"THE BULLET\" Lauer                                                                                                                                          37\n",
      "Andrew Luttrell                                                                                                                                                     5\n",
      "Andrew Luttrell Band                                                                                                                                               10\n",
      "Andrew Marsh                                                                                                                                                        3\n",
      "Andy Marsh                                                                                                                                                          4\n",
      "Anni Elif                                                                                                                                                          10\n",
      "Ant Antic                                                                                                                                                          22\n",
      "Ante Antic                                                                                                                                                          2\n",
      "Antic                                                                                                                                                              35\n",
      "Antic & Shemsu                                                                                                                                                      6\n",
      "Antic Clay                                                                                                                                                         20\n",
      "Antic Cullum                                                                                                                                                        5\n",
      "Antic Devine                                                                                                                                                        1\n",
      "Antic Devine Forms                                                                                                                                                  5\n",
      "Antic Outlaw                                                                                                                                                        7\n",
      "Antic Tone                                                                                                                                                         14\n",
      "Antic!                                                                                                                                                              3\n",
      "Antić Dragan                                                                                                                                                        4\n",
      "                                                                                                                                                                 ... \n",
      "Travis Marsh                                                                                                                                                        6\n",
      "Tre/molo                                                                                                                                                            1\n",
      "Velly Marsh                                                                                                                                                        12\n",
      "Vesna Antic                                                                                                                                                        21\n",
      "Victor Lane                                                                                                                                                         2\n",
      "Victoria Marsh                                                                                                                                                      5\n",
      "Walter Marsh                                                                                                                                                        9\n",
      "Warne Marsh                                                                                                                                                        91\n",
      "Warne Marsh Quartet                                                                                                                                                 1\n",
      "Way Out West                                                                                                                                                      498\n",
      "Way Out West Melbourne                                                                                                                                              8\n",
      "Western Australia Police Pipe Band and Scott Wallace and R. Campbell and Fred Morrison and Phil Cunningham and James Wark and Gordon Duncan and Donald MacLeod      1\n",
      "Will Just Chill                                                                                                                                                     1\n",
      "William Marsh                                                                                                                                                       1\n",
      "Willium Marsh                                                                                                                                                      10\n",
      "Workout Trance                                                                                                                                                      1\n",
      "Yelo Molo                                                                                                                                                         112\n",
      "Yotto                                                                                                                                                             203\n",
      "Zach Marsh                                                                                                                                                          1\n",
      "Zander Marsh                                                                                                                                                       25\n",
      "Zika Antic                                                                                                                                                         35\n",
      "Zoran Antic                                                                                                                                                         9\n",
      "antic                                                                                                                                                              15\n",
      "boerd                                                                                                                                                              83\n",
      "boots to the moon                                                                                                                                                   9\n",
      "penelope                                                                                                                                                            7\n",
      "sp-just-frost                                                                                                                                                       1\n",
      "yotto + h                                                                                                                                                           1\n",
      "Öona Dahl                                                                                                                                                           2\n",
      "Žika Antić                                                                                                                                                          7\n",
      "Length: 537, dtype: int64\n"
     ]
    }
   ],
   "source": [
    "#df.hist(by=df['artist_name'])\n",
    "duplicates = df_tracks.groupby(['artist_name'], as_index=True).size()\n",
    "print(duplicates)\n",
    "#print(\"Number of duplicate artists: \", duplicates[duplicates > 1].count() )"
   ]
  },
  {
   "cell_type": "markdown",
   "metadata": {},
   "source": [
    "So far everything looks good so let's save the dataframe as a .csv file."
   ]
  },
  {
   "cell_type": "code",
   "execution_count": 25,
   "metadata": {},
   "outputs": [],
   "source": [
    "df.to_csv('data/anjunadeep-explorations-track-audio-features.csv')"
   ]
  }
 ],
 "metadata": {
  "kernelspec": {
   "display_name": "Python 3",
   "language": "python",
   "name": "python3"
  },
  "language_info": {
   "codemirror_mode": {
    "name": "ipython",
    "version": 3
   },
   "file_extension": ".py",
   "mimetype": "text/x-python",
   "name": "python",
   "nbconvert_exporter": "python",
   "pygments_lexer": "ipython3",
   "version": "3.6.8"
  }
 },
 "nbformat": 4,
 "nbformat_minor": 2
}
